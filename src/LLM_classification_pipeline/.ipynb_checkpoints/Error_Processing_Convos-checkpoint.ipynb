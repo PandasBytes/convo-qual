{
 "cells": [
  {
   "cell_type": "code",
   "execution_count": 1,
   "id": "7a2f75b1-acf7-4562-9842-c5b1df054041",
   "metadata": {},
   "outputs": [],
   "source": [
    "import pandas as pd"
   ]
  },
  {
   "cell_type": "code",
   "execution_count": 3,
   "id": "b2426c98-ed67-4717-babb-d903115dee7f",
   "metadata": {},
   "outputs": [],
   "source": [
    "#problem convos: 63, 101\n",
    "# Skipping line with unexpected format: 'Conversation 203: high'\n",
    "# Skipping line with unexpected format: 'Conversation 258: medium'\n",
    "# Skipping line with unexpected format: 'Conversation 541: medium'\n",
    "# Skipping line with unexpected format: 'Conversation 605: low'\n",
    "# Skipping line with unexpected format: 'Conversation 852: low'\n",
    "# Skipping line with unexpected format: 'Conversation 883: medium'\n",
    "\n",
    "# 16, 275, 353, 510, 591, 702, 866\n",
    "# Skipping line with unexpected format: 'SYSTEM What day do you need the train? What is your destination?'\n",
    "# Skipping line with unexpected format: 'USER Do any of the trains offer discounts for children?'\n",
    "# Error parsing line: 'SYSTEM If the person is under 5, they are free. For 5 to 16 they get a 50% discount. Could I answer any more questions for you?'\n",
    "# Error details: invalid literal for int() with base 10: 'SYSTEM If the person is under 5, they are free'\n",
    "# Skipping line with unexpected format: 'USER I am sorry I mean I want a nightclub to go in the wast side of town.'\n",
    "# Error parsing line: 'SYSTEM Unfortunately, there aren't any in that area. How about another location?'\n",
    "# Error details: invalid literal for int() with base 10: \"SYSTEM Unfortunately, there aren't any in that area\"\n",
    "# Skipping line with unexpected format: 'USER how about one that is in the type of museum.and make Make sure you get address'\n",
    "# Error parsing line: 'SYSTEM Kettle's yard is museum in the west part of town. It is located on castle street.'\n",
    "# Error details: invalid literal for int() with base 10: \"SYSTEM Kettle's yard is museum in the west part of town\"\n",
    "# Skipping line with unexpected format: 'USER I also need a moderate priced room.'\n",
    "# Skipping line with unexpected format: 'SYSTEM great! what area of town are you thinking of?'\n",
    "# Skipping line with unexpected format: 'USER I'd like it to be a guest house in the north.'\n",
    "# Error parsing line: 'SYSTEM okay, I can help you with that. When are you planning your stay?'\n",
    "# Error details: invalid literal for int() with base 10: 'SYSTEM okay, I can help you with that'\n",
    "\n",
    "# Conversations in this batch: [111, 238, 296, 499, 542, 767]\n",
    "# Skipping line with unexpected format: 'SYSTEM Okay! What kind of restaurant would you like to dine at?'\n",
    "# Skipping line with unexpected format: 'USER One that serves modern American food.'\n",
    "# Error parsing line: 'SYSTEM I'm sorry there are no matches. Would you like me to try a different food type?'\n",
    "# Error details: invalid literal for int() with base 10: \"SYSTEM I'm sorry there are no matches\"\n",
    "# Skipping line with unexpected format: 'USER I guess I can do Spanish food, try to find something in the Centre area, please.'\n",
    "# Error parsing line: 'SYSTEM There are two options for Spanish food in the centre. One is moderately priced while the other is considered cheap. Which would you prefer?'\n",
    "# Error details: invalid literal for int() with base 10: 'SYSTEM There are two options for Spanish food in the centre'\n",
    "# Skipping line with unexpected format: 'USER I'd like the moderately priced one please.'\n",
    "# Error parsing line: 'SYSTEM It's called la tasca. I'll need more information if you'd like to book a table.'\n",
    "# Error details: invalid literal for int() with base 10: \"SYSTEM It's called la tasca\"\n",
    "# Skipping line with unexpected format: 'USER Can I get a table for 3 at 11:30 on Thursday?'\n",
    "# Skipping line with unexpected format: 'SYSTEM it is booked here is your ref number 3OUG57S3.'\n",
    "# Skipping line with unexpected format: 'USER Does the restaurant offer free WiFi for guests?'\n",
    "# Error parsing line: 'SYSTEM No, there is no Wi-Fi at La Tasca. Is there anything else that I can assist you'\n",
    "# Error details: invalid literal for int() with base 10: 'SYSTEM No, there is no Wi-Fi at La Tasca'\n",
    "# Finished processing Batch 1 of 173\n",
    "\n",
    "# Conversations in this batch: [41, 95, 536, 745, 958]\n",
    "# Error parsing line: 'SYSTEM I apologize, there are no restaurants in the area that serve halal food. Would you like another type of food?'\n",
    "# Error details: invalid literal for int() with base 10: 'SYSTEM I apologize, there are no restaurants in the area that serve halal food'\n",
    "# Skipping line with unexpected format: 'USER How about Portuguese food?'\n",
    "# Error parsing line: 'SYSTEM Nandos is serves portuguese food, is in the south part of town and in the cheap price range. Would you like their location?'\n",
    "# Error details: invalid literal for int() with base 10: 'SYSTEM Nandos is serves portuguese food, is in the south part of town and in the cheap price range'\n",
    "# Skipping line with unexpected format: 'USER Does Nandos have vegetarian food option also at their restaurant?'\n",
    "# Error parsing line: 'SYSTEM They do not offer vegetarian options. Do you have any other questions?'\n",
    "# Error details: invalid literal for int() with base 10: 'SYSTEM They do not offer vegetarian options'\n",
    "# Skipping line with unexpected format: 'USER Is alcohol served at Nandos?'\n",
    "# Error parsing line: 'SYSTEM Yes Nandos does serve alcoholic drinks. Can I help you with anything else today?'\n",
    "# Error details: invalid literal for int() with base 10: 'SYSTEM Yes Nandos does serve alcoholic drinks'\n",
    "# Skipping line with unexpected format: 'USER Yes, phone number and address please.'\n",
    "# Skipping line with unexpected format: 'SYSTEM there phone number is 01223327908 and there address is Cambridge Leisure Park Clifton Way, Is there anything else I can help you with?'\n",
    "# Skipping line with unexpected format: 'USER Do they allow for to go orders?'\n",
    "# Skipping line with unexpected format: 'SYSTEM No, you can't get a takeout order'\n",
    "# Finished processing Batch 3 of 173\n"
   ]
  },
  {
   "cell_type": "markdown",
   "id": "4918510b-48b4-4f85-90ee-087edb58a303",
   "metadata": {
    "jp-MarkdownHeadingCollapsed": true
   },
   "source": [
    "16,\"USER I would like to book a train.\n",
    "SYSTEM What day do you need the train? What is your destination?\n",
    "\n",
    "111,\"USER I am looking for a restaurant please.\n",
    "SYSTEM Okay! What kind of restaurant would you like to dine at?\n",
    "\n",
    "41,\"USER Hi. Can you tell me if any restaurants in the area serve halal food?\n",
    "SYSTEM I apologize, there are no restaurants in the area that serve halal food. Would you like another type of food?\n",
    "\n",
    "111,\"USER I am looking for a restaurant please.\n",
    "SYSTEM Okay! What kind of restaurant would you like to dine at?\n",
    "\n",
    "180,\"USER I need to take a train from bishops stanford on Friday. Can I book one here?\n",
    "SYSTEM Sure thing. Do you have a departure or arrival time in mind?\n",
    "\n",
    "these all have a punctuation in the first USER line, vs "
   ]
  },
  {
   "cell_type": "code",
   "execution_count": 2,
   "id": "03de934a-1f75-4134-8015-4b0582204978",
   "metadata": {},
   "outputs": [],
   "source": [
    "PROCESSED_DATA_PATH = \"/Users/RiRi/Desktop/github/convo-quality/data/LLM_ingest/conversation_data.csv\"\n",
    "PROMPTS_PATH = \"prompts.yaml\"\n",
    "LABELED_DATA_PATH = \"/Users/RiRi/Desktop/github/convo-quality/data/LLM_ingest/convid_w_satisfaction_rating.csv\"\n",
    "OUTPUT_PATH_TEMPLATE = \"/Users/RiRi/Desktop/github/convo-quality/data/output/LLM/all_batches_scored_PROMPT{label}.csv\"\n",
    "LOG_FILE = \"logs/batch_log.txt\""
   ]
  },
  {
   "cell_type": "code",
   "execution_count": 4,
   "id": "9408944f-3e87-48d2-8da0-dc2455793d4f",
   "metadata": {},
   "outputs": [],
   "source": [
    "conversation_df = pd.read_csv(PROCESSED_DATA_PATH)"
   ]
  },
  {
   "cell_type": "code",
   "execution_count": null,
   "id": "03394499-2822-4690-8f87-6b434890628b",
   "metadata": {},
   "outputs": [],
   "source": [
    "[41, 111"
   ]
  }
 ],
 "metadata": {
  "kernelspec": {
   "display_name": "Python (myenv)",
   "language": "python",
   "name": "myenv"
  },
  "language_info": {
   "codemirror_mode": {
    "name": "ipython",
    "version": 3
   },
   "file_extension": ".py",
   "mimetype": "text/x-python",
   "name": "python",
   "nbconvert_exporter": "python",
   "pygments_lexer": "ipython3",
   "version": "3.9.6"
  }
 },
 "nbformat": 4,
 "nbformat_minor": 5
}
